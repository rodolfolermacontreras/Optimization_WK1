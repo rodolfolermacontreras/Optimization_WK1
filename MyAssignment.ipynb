{
 "cells": [
  {
   "cell_type": "code",
   "execution_count": 1,
   "id": "522e7e5e",
   "metadata": {},
   "outputs": [],
   "source": [
    "from docplex.mp.model import Model\n",
    "from docplex.util.environment import get_environment"
   ]
  },
  {
   "cell_type": "code",
   "execution_count": 2,
   "id": "dbe93a7b",
   "metadata": {},
   "outputs": [],
   "source": [
    "mdl = Model()"
   ]
  },
  {
   "cell_type": "code",
   "execution_count": 3,
   "id": "f22387c3",
   "metadata": {},
   "outputs": [],
   "source": [
    "# Assignment Problem: data\n",
    "Zones = ['Zone 1', 'Zone 2', 'Zone 3', 'Zone 4']\n",
    "Bidders = ['A', 'B', 'C', 'D', 'E', 'F']\n",
    "\n",
    "Bids = {\n",
    "    ('Zone 1', 'A') : 17.7,\t('Zone 1', 'B') : 17.8,\t('Zone 1', 'C') : 18.1,\t('Zone 1', 'D') : 17.9,\t('Zone 1', 'E') : 17.6,\t('Zone 1', 'F') : 17.4,\n",
    "    ('Zone 2', 'A') : 16.3,\t('Zone 2', 'B') : 17.2,\t('Zone 2', 'C') : 17.4,\t('Zone 2', 'D') : 16.8,\t('Zone 2', 'E') : 17.3,\t('Zone 2', 'F') : 16.4,\n",
    "    ('Zone 3', 'A') : 17.8,\t('Zone 3', 'B') : 17.6,\t('Zone 3', 'C') : 18.5,\t('Zone 3', 'D') : 16.9,\t('Zone 3', 'E') : 18.3,\t('Zone 3', 'F') : 18,\n",
    "    ('Zone 4', 'A') : 17.1,\t('Zone 4', 'B') : 18,\t('Zone 4', 'C') : 18.3,\t('Zone 4', 'D') : 18,\t('Zone 4', 'E') : 18.1,\t('Zone 4', 'F') : 17.6\n",
    "}"
   ]
  },
  {
   "cell_type": "code",
   "execution_count": 4,
   "id": "6dc2fb0e",
   "metadata": {},
   "outputs": [],
   "source": [
    "assign = mdl.continuous_var_matrix(Zones, Bidders, lb=0, ub=1, name='assign')"
   ]
  },
  {
   "cell_type": "code",
   "execution_count": 5,
   "id": "2988d428",
   "metadata": {},
   "outputs": [],
   "source": [
    "objective = mdl.sum(assign[(z,b)] * Bids[(z,b)] for z in Zones for b in Bidders)"
   ]
  },
  {
   "cell_type": "code",
   "execution_count": 6,
   "id": "358206a1",
   "metadata": {},
   "outputs": [],
   "source": [
    "mdl.maximize(objective)"
   ]
  },
  {
   "cell_type": "code",
   "execution_count": 7,
   "id": "f8505e55",
   "metadata": {},
   "outputs": [],
   "source": [
    "#Each bidder assigned at most one zone\n",
    "for b in Bidders:\n",
    "    mdl.add_constraint(mdl.sum(assign[(z,b)] for z in Zones) <= 1)"
   ]
  },
  {
   "cell_type": "code",
   "execution_count": 8,
   "id": "75c85b46",
   "metadata": {},
   "outputs": [],
   "source": [
    "#Each zone only sold to one bidder\n",
    "for z in Zones:\n",
    "    mdl.add_constraint(mdl.sum(assign[(z,b)] for b in Bidders) == 1)"
   ]
  },
  {
   "cell_type": "code",
   "execution_count": 9,
   "id": "1fa24290",
   "metadata": {},
   "outputs": [
    {
     "data": {
      "text/plain": [
       "docplex.mp.SolveDetails(time=0,status='optimal')"
      ]
     },
     "execution_count": 9,
     "metadata": {},
     "output_type": "execute_result"
    }
   ],
   "source": [
    "mdl.solve()\n",
    "mdl.get_solve_details()"
   ]
  },
  {
   "cell_type": "code",
   "execution_count": 10,
   "id": "f93e19a8",
   "metadata": {},
   "outputs": [
    {
     "name": "stdout",
     "output_type": "stream",
     "text": [
      "objective: 71.700\n",
      "status: OPTIMAL_SOLUTION(2)\n",
      "  \"assign_Zone 1_D\"=1.000\n",
      "  \"assign_Zone 2_E\"=1.000\n",
      "  \"assign_Zone 3_C\"=1.000\n",
      "  \"assign_Zone 4_B\"=1.000\n"
     ]
    }
   ],
   "source": [
    "mdl.print_solution()"
   ]
  }
 ],
 "metadata": {
  "kernelspec": {
   "display_name": "Python 3 (ipykernel)",
   "language": "python",
   "name": "python3"
  },
  "language_info": {
   "codemirror_mode": {
    "name": "ipython",
    "version": 3
   },
   "file_extension": ".py",
   "mimetype": "text/x-python",
   "name": "python",
   "nbconvert_exporter": "python",
   "pygments_lexer": "ipython3",
   "version": "3.9.16"
  }
 },
 "nbformat": 4,
 "nbformat_minor": 5
}
