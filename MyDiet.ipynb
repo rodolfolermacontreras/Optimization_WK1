{
 "cells": [
  {
   "cell_type": "markdown",
   "id": "a71f8598",
   "metadata": {},
   "source": [
    "### First Part: Explicit Model"
   ]
  },
  {
   "cell_type": "code",
   "execution_count": 1,
   "id": "ab9bbd6c",
   "metadata": {},
   "outputs": [],
   "source": [
    "from docplex.mp.model import Model\n",
    "from docplex.util.environment import get_environment"
   ]
  },
  {
   "cell_type": "code",
   "execution_count": 2,
   "id": "723a4253",
   "metadata": {},
   "outputs": [],
   "source": [
    "mdl = Model()"
   ]
  },
  {
   "cell_type": "code",
   "execution_count": 3,
   "id": "30b3faa8",
   "metadata": {},
   "outputs": [],
   "source": [
    "b = mdl.continuous_var(lb = 0, name = 'beef')\n",
    "c = mdl.continuous_var(lb = 0, name = 'chicken')\n",
    "r = mdl.continuous_var(lb = 0, name = 'rise')\n",
    "s = mdl.continuous_var(lb = 0, name = 'spaghetti')"
   ]
  },
  {
   "cell_type": "code",
   "execution_count": 4,
   "id": "a5bdd590",
   "metadata": {},
   "outputs": [
    {
     "data": {
      "text/plain": [
       "docplex.mp.LinearConstraint[](40beef+20chicken+25rise+15spaghetti,GE,700)"
      ]
     },
     "execution_count": 4,
     "metadata": {},
     "output_type": "execute_result"
    }
   ],
   "source": [
    "mdl.add_constraint(60*b + 80*c + 25*r + 60*s >= 700)\n",
    "mdl.add_constraint(20*b +  0*c + 20*r + 60*s >= 700)\n",
    "mdl.add_constraint(40*b + 20*c + 25*r + 15*s >= 700)"
   ]
  },
  {
   "cell_type": "code",
   "execution_count": 5,
   "id": "d5945173",
   "metadata": {},
   "outputs": [],
   "source": [
    "mdl.minimize(3.2*b + 2.4*c + 2*r + 2.5*s)"
   ]
  },
  {
   "cell_type": "code",
   "execution_count": 6,
   "id": "68d5eb3c",
   "metadata": {},
   "outputs": [
    {
     "data": {
      "text/plain": [
       "docplex.mp.solution.SolveSolution(obj=59.7917,values={rise:26.25,spaghet.."
      ]
     },
     "execution_count": 6,
     "metadata": {},
     "output_type": "execute_result"
    }
   ],
   "source": [
    "mdl.solve()"
   ]
  },
  {
   "cell_type": "code",
   "execution_count": 7,
   "id": "9b01daf8",
   "metadata": {},
   "outputs": [
    {
     "data": {
      "text/plain": [
       "docplex.mp.SolveDetails(time=0,status='optimal')"
      ]
     },
     "execution_count": 7,
     "metadata": {},
     "output_type": "execute_result"
    }
   ],
   "source": [
    "mdl.get_solve_details()"
   ]
  },
  {
   "cell_type": "code",
   "execution_count": 8,
   "id": "c818164f",
   "metadata": {},
   "outputs": [
    {
     "name": "stdout",
     "output_type": "stream",
     "text": [
      "objective: 59.792\n",
      "status: OPTIMAL_SOLUTION(2)\n",
      "  rise=26.250\n",
      "  spaghetti=2.917\n"
     ]
    }
   ],
   "source": [
    "mdl.print_solution()"
   ]
  },
  {
   "cell_type": "code",
   "execution_count": 9,
   "id": "707cc30e",
   "metadata": {},
   "outputs": [],
   "source": [
    "# Diet Problem: Data\n",
    "\n",
    "# First we define the sets of foods and nutrients\n",
    "Foods = ['beef', 'chicken', 'rice', 'spaghetti']\n",
    "Nutrients = ['A', 'B', 'C']\n",
    "\n",
    "# The unit cost can be defined as a 'dictionary' over the Foods:\n",
    "Cost = {\n",
    "    'beef' : 3.2,\n",
    "    'chicken' : 2.4,\n",
    "    'rice' : 2,\n",
    "    'spaghetti' : 2.5\n",
    "}\n",
    "\n",
    "# Likewise, the nutritional content can be defined as a dictionary (Plants x Nutrients):\n",
    "Nutrition = {\n",
    "    ('beef', 'A') : 60,\n",
    "    ('beef', 'B') : 20,\n",
    "    ('beef', 'C') : 40,\n",
    "    ('chicken', 'A') : 80,\n",
    "    ('chicken', 'B') : 0,\n",
    "    ('chicken', 'C') : 20,\n",
    "    ('rice', 'A') : 25,\n",
    "    ('rice', 'B') : 50,\n",
    "    ('rice', 'C') : 25,\n",
    "    ('spaghetti', 'A') : 60,\n",
    "    ('spaghetti', 'B') : 20,\n",
    "    ('spaghetti', 'C') : 15,\n",
    "}"
   ]
  },
  {
   "cell_type": "code",
   "execution_count": 10,
   "id": "e16ed62a",
   "metadata": {},
   "outputs": [
    {
     "data": {
      "text/plain": [
       "3.2"
      ]
     },
     "execution_count": 10,
     "metadata": {},
     "output_type": "execute_result"
    }
   ],
   "source": [
    "Cost['beef']"
   ]
  },
  {
   "cell_type": "code",
   "execution_count": 11,
   "id": "1414d854",
   "metadata": {},
   "outputs": [
    {
     "data": {
      "text/plain": [
       "60"
      ]
     },
     "execution_count": 11,
     "metadata": {},
     "output_type": "execute_result"
    }
   ],
   "source": [
    "Nutrition['beef','A']"
   ]
  },
  {
   "cell_type": "code",
   "execution_count": 12,
   "id": "b825e739",
   "metadata": {},
   "outputs": [
    {
     "name": "stdout",
     "output_type": "stream",
     "text": [
      "3.2\n",
      "2.4\n",
      "2\n",
      "2.5\n"
     ]
    }
   ],
   "source": [
    "for i in Foods:\n",
    "    print(Cost[i])"
   ]
  },
  {
   "cell_type": "code",
   "execution_count": 13,
   "id": "07cbc456",
   "metadata": {},
   "outputs": [
    {
     "name": "stdout",
     "output_type": "stream",
     "text": [
      "60\n",
      "20\n",
      "40\n",
      "80\n",
      "0\n",
      "20\n",
      "25\n",
      "50\n",
      "25\n",
      "60\n",
      "20\n",
      "15\n"
     ]
    }
   ],
   "source": [
    "for i in Foods:\n",
    "    for j in Nutrients:\n",
    "        print(Nutrition[i,j])"
   ]
  },
  {
   "cell_type": "markdown",
   "id": "772dace6",
   "metadata": {},
   "source": [
    "### Second Part: Non Explicit Model"
   ]
  },
  {
   "cell_type": "code",
   "execution_count": 14,
   "id": "fc6926e0",
   "metadata": {},
   "outputs": [],
   "source": [
    "# from docplex.mp.model import Model\n",
    "# from docplex.util.environment import get_environment\n",
    "mdl = Model()"
   ]
  },
  {
   "cell_type": "code",
   "execution_count": 15,
   "id": "6d98d2b7",
   "metadata": {},
   "outputs": [],
   "source": [
    "amount = mdl.continuous_var_dict(Foods, lb = 0, name = Foods)"
   ]
  },
  {
   "cell_type": "code",
   "execution_count": 16,
   "id": "687a9971",
   "metadata": {},
   "outputs": [],
   "source": [
    "for i in Nutrients:\n",
    "    mdl.add_constraint(mdl.sum(Nutrition[(j,i)] * amount[j] for j in Foods ) >= 700)"
   ]
  },
  {
   "cell_type": "code",
   "execution_count": 17,
   "id": "84db8eca",
   "metadata": {},
   "outputs": [],
   "source": [
    "mdl.minimize(mdl.sum(Cost[i]*amount[i] for i in Foods))"
   ]
  },
  {
   "cell_type": "code",
   "execution_count": 18,
   "id": "bbc5aa67",
   "metadata": {},
   "outputs": [
    {
     "data": {
      "text/plain": [
       "docplex.mp.solution.SolveSolution(obj=56,values={beef:11.6667,rice:9.333.."
      ]
     },
     "execution_count": 18,
     "metadata": {},
     "output_type": "execute_result"
    }
   ],
   "source": [
    "mdl.solve()"
   ]
  },
  {
   "cell_type": "code",
   "execution_count": 19,
   "id": "e43f564f",
   "metadata": {},
   "outputs": [
    {
     "data": {
      "text/plain": [
       "docplex.mp.SolveDetails(time=0,status='optimal')"
      ]
     },
     "execution_count": 19,
     "metadata": {},
     "output_type": "execute_result"
    }
   ],
   "source": [
    "mdl.get_solve_details()"
   ]
  },
  {
   "cell_type": "code",
   "execution_count": 20,
   "id": "f1382d64",
   "metadata": {},
   "outputs": [
    {
     "name": "stdout",
     "output_type": "stream",
     "text": [
      "objective: 56.000\n",
      "status: OPTIMAL_SOLUTION(2)\n",
      "  beef=11.667\n",
      "  rice=9.333\n"
     ]
    }
   ],
   "source": [
    "mdl.print_solution()"
   ]
  }
 ],
 "metadata": {
  "kernelspec": {
   "display_name": "Python 3 (ipykernel)",
   "language": "python",
   "name": "python3"
  },
  "language_info": {
   "codemirror_mode": {
    "name": "ipython",
    "version": 3
   },
   "file_extension": ".py",
   "mimetype": "text/x-python",
   "name": "python",
   "nbconvert_exporter": "python",
   "pygments_lexer": "ipython3",
   "version": "3.9.16"
  }
 },
 "nbformat": 4,
 "nbformat_minor": 5
}
