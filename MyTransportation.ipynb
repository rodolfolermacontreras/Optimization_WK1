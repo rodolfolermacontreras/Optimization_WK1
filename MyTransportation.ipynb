{
 "cells": [
  {
   "cell_type": "markdown",
   "id": "b796c4dd",
   "metadata": {},
   "source": [
    "## First Part"
   ]
  },
  {
   "cell_type": "code",
   "execution_count": 1,
   "id": "8b1a0e3e",
   "metadata": {},
   "outputs": [],
   "source": [
    "# Transportation Problem: data\n",
    "Plants = ['Plant 1', 'Plant 2']\n",
    "Customers = ['Cust A', 'Cust B', 'Cust C']\n",
    "\n",
    "Cost = {\n",
    "    ('Plant 1', 'Cust A') : 15,\n",
    "    ('Plant 1', 'Cust B') : 35,\n",
    "    ('Plant 1', 'Cust C') : 25,\n",
    "    ('Plant 2', 'Cust A') : 10,\n",
    "    ('Plant 2', 'Cust B') : 30,\n",
    "    ('Plant 2', 'Cust C') : 40\n",
    "}\n",
    "\n",
    "Supply = {\n",
    "    'Plant 1' : 40,\n",
    "    'Plant 2' : 50    \n",
    "}\n",
    "\n",
    "Demand = {\n",
    "    'Cust A' : 30,\n",
    "    'Cust B' : 30,\n",
    "    'Cust C' : 30,\n",
    "}"
   ]
  },
  {
   "cell_type": "markdown",
   "id": "8bdecf92",
   "metadata": {},
   "source": [
    "#### Implicit Representation of the Model"
   ]
  },
  {
   "cell_type": "code",
   "execution_count": 2,
   "id": "88b042c0",
   "metadata": {},
   "outputs": [],
   "source": [
    "from docplex.mp.model import Model\n",
    "from docplex.util.environment import get_environment"
   ]
  },
  {
   "cell_type": "code",
   "execution_count": 3,
   "id": "06c947d7",
   "metadata": {},
   "outputs": [],
   "source": [
    "mdl = Model()"
   ]
  },
  {
   "cell_type": "code",
   "execution_count": 4,
   "id": "e6b49511",
   "metadata": {},
   "outputs": [],
   "source": [
    "amount_shipped = mdl.continuous_var_matrix(Plants, Customers, lb = 0, name='amount_shipped')"
   ]
  },
  {
   "cell_type": "code",
   "execution_count": 5,
   "id": "9df1db47",
   "metadata": {},
   "outputs": [],
   "source": [
    "mdl.minimize(mdl.sum(amount_shipped[(p,c)] * Cost[(p,c)] for p in Plants for c in Customers))"
   ]
  },
  {
   "cell_type": "code",
   "execution_count": 6,
   "id": "7b17adce",
   "metadata": {},
   "outputs": [],
   "source": [
    "for c in Customers:\n",
    "    mdl.add_constraint(mdl.sum(amount_shipped[(p,c)] for p in Plants) == Demand[c])"
   ]
  },
  {
   "cell_type": "code",
   "execution_count": 7,
   "id": "6eac9f3d",
   "metadata": {},
   "outputs": [],
   "source": [
    "for p in Plants:\n",
    "    mdl.add_constraint(mdl.sum(amount_shipped[(p,c)] for c in Customers) == Supply[p])"
   ]
  },
  {
   "cell_type": "code",
   "execution_count": 8,
   "id": "51d07c92",
   "metadata": {},
   "outputs": [
    {
     "data": {
      "text/plain": [
       "docplex.mp.solution.SolveSolution(obj=2000,values={amount_shipped_Plant .."
      ]
     },
     "execution_count": 8,
     "metadata": {},
     "output_type": "execute_result"
    }
   ],
   "source": [
    "mdl.solve()"
   ]
  },
  {
   "cell_type": "code",
   "execution_count": 9,
   "id": "77f8f53f",
   "metadata": {},
   "outputs": [
    {
     "data": {
      "text/plain": [
       "docplex.mp.SolveDetails(time=0,status='optimal')"
      ]
     },
     "execution_count": 9,
     "metadata": {},
     "output_type": "execute_result"
    }
   ],
   "source": [
    "mdl.get_solve_details()"
   ]
  },
  {
   "cell_type": "code",
   "execution_count": 10,
   "id": "9f7b799f",
   "metadata": {},
   "outputs": [
    {
     "name": "stdout",
     "output_type": "stream",
     "text": [
      "objective: 2000.000\n",
      "status: OPTIMAL_SOLUTION(2)\n",
      "  \"amount_shipped_Plant 1_Cust B\"=10.000\n",
      "  \"amount_shipped_Plant 1_Cust C\"=30.000\n",
      "  \"amount_shipped_Plant 2_Cust A\"=30.000\n",
      "  \"amount_shipped_Plant 2_Cust B\"=20.000\n"
     ]
    }
   ],
   "source": [
    "mdl.print_solution()"
   ]
  },
  {
   "cell_type": "markdown",
   "id": "98faaa87",
   "metadata": {},
   "source": [
    "## Second Part (Variant)"
   ]
  },
  {
   "cell_type": "code",
   "execution_count": 11,
   "id": "4fddba94",
   "metadata": {},
   "outputs": [],
   "source": [
    "# Transportation Problem: data\n",
    "\n",
    "# For this variant we introduce a 'dummy' plant to represent unmet demand (10 units)\n",
    "Plants = ['Plant 1', 'Plant 2', 'Plant 3']\n",
    "Customers = ['Cust A', 'Cust B', 'Cust C']\n",
    "\n",
    "Cost = {\n",
    "    ('Plant 1', 'Cust A') : 15,\n",
    "    ('Plant 1', 'Cust B') : 35,\n",
    "    ('Plant 1', 'Cust C') : 25,\n",
    "    ('Plant 2', 'Cust A') : 10,\n",
    "    ('Plant 2', 'Cust B') : 30,\n",
    "    ('Plant 2', 'Cust C') : 40,\n",
    "    ('Plant 3', 'Cust A') : 20,\n",
    "    ('Plant 3', 'Cust B') : 10,\n",
    "    ('Plant 3', 'Cust C') : 30\n",
    "}\n",
    "\n",
    "Supply = {\n",
    "    'Plant 1' : 30,\n",
    "    'Plant 2' : 50,\n",
    "    'Plant 3' : 10\n",
    "}\n",
    "\n",
    "Demand = {\n",
    "    'Cust A' : 30,\n",
    "    'Cust B' : 30,\n",
    "    'Cust C' : 30,\n",
    "}"
   ]
  },
  {
   "cell_type": "code",
   "execution_count": 12,
   "id": "0729fb55",
   "metadata": {},
   "outputs": [],
   "source": [
    "mdl = Model()"
   ]
  },
  {
   "cell_type": "code",
   "execution_count": 13,
   "id": "812e84e4",
   "metadata": {},
   "outputs": [],
   "source": [
    "# for this example we use a 2-dimensional matrix of variables: \n",
    "shipped = mdl.continuous_var_matrix(Plants, Customers, lb=0, name='shipped')"
   ]
  },
  {
   "cell_type": "code",
   "execution_count": 14,
   "id": "ceb8a59e",
   "metadata": {},
   "outputs": [],
   "source": [
    "# the objective is to minimize the total weighted shipping costs:\n",
    "objective = mdl.sum(shipped[(p,c)]*Cost[(p,c)] for p in Plants for c in Customers)\n",
    "mdl.minimize(objective)"
   ]
  },
  {
   "cell_type": "code",
   "execution_count": 15,
   "id": "942779ad",
   "metadata": {},
   "outputs": [],
   "source": [
    "# define the demand constraints:\n",
    "for c in Customers:\n",
    "    mdl.add_constraint(mdl.sum(shipped[(p,c)] for p in Plants) == Demand[c])"
   ]
  },
  {
   "cell_type": "code",
   "execution_count": 16,
   "id": "4029a4eb",
   "metadata": {},
   "outputs": [],
   "source": [
    "# define the supply constraints:\n",
    "for p in Plants:\n",
    "    mdl.add_constraint(mdl.sum(shipped[(p,c)] for c in Customers) == Supply[p])"
   ]
  },
  {
   "cell_type": "code",
   "execution_count": 17,
   "id": "ce53015a",
   "metadata": {},
   "outputs": [
    {
     "data": {
      "text/plain": [
       "docplex.mp.LinearConstraint[](shipped_Plant 1_Cust C,LE,20)"
      ]
     },
     "execution_count": 17,
     "metadata": {},
     "output_type": "execute_result"
    }
   ],
   "source": [
    "# Further restrictions: ship at least 5 units from 1 to B; ship at most 20 units from 1 to C:\n",
    "mdl.add_constraint(shipped[('Plant 1', 'Cust B')] >= 5)\n",
    "mdl.add_constraint(shipped[('Plant 1', 'Cust C')] <= 20)"
   ]
  },
  {
   "cell_type": "code",
   "execution_count": 18,
   "id": "91f50aa0",
   "metadata": {},
   "outputs": [
    {
     "data": {
      "text/plain": [
       "docplex.mp.SolveDetails(time=0,status='optimal')"
      ]
     },
     "execution_count": 18,
     "metadata": {},
     "output_type": "execute_result"
    }
   ],
   "source": [
    "mdl.solve()\n",
    "mdl.get_solve_details()"
   ]
  },
  {
   "cell_type": "code",
   "execution_count": 19,
   "id": "4c0a334e",
   "metadata": {},
   "outputs": [
    {
     "name": "stdout",
     "output_type": "stream",
     "text": [
      "objective: 1950.000\n",
      "status: OPTIMAL_SOLUTION(2)\n",
      "  \"shipped_Plant 1_Cust A\"=5.000\n",
      "  \"shipped_Plant 1_Cust B\"=5.000\n",
      "  \"shipped_Plant 1_Cust C\"=20.000\n",
      "  \"shipped_Plant 2_Cust A\"=25.000\n",
      "  \"shipped_Plant 2_Cust B\"=15.000\n",
      "  \"shipped_Plant 2_Cust C\"=10.000\n",
      "  \"shipped_Plant 3_Cust B\"=10.000\n"
     ]
    }
   ],
   "source": [
    "mdl.print_solution()"
   ]
  }
 ],
 "metadata": {
  "kernelspec": {
   "display_name": "Python 3 (ipykernel)",
   "language": "python",
   "name": "python3"
  },
  "language_info": {
   "codemirror_mode": {
    "name": "ipython",
    "version": 3
   },
   "file_extension": ".py",
   "mimetype": "text/x-python",
   "name": "python",
   "nbconvert_exporter": "python",
   "pygments_lexer": "ipython3",
   "version": "3.9.16"
  }
 },
 "nbformat": 4,
 "nbformat_minor": 5
}
